{
 "cells": [
  {
   "cell_type": "markdown",
   "id": "d194985a",
   "metadata": {},
   "source": [
    "# Verificações de Virtual Environment e Devices"
   ]
  },
  {
   "cell_type": "code",
   "execution_count": 2,
   "id": "e1a883fc",
   "metadata": {},
   "outputs": [
    {
     "name": "stdout",
     "output_type": "stream",
     "text": [
      "k006-007-v8.hpcfund\n"
     ]
    }
   ],
   "source": [
    "!hostname"
   ]
  },
  {
   "cell_type": "code",
   "execution_count": 3,
   "id": "a9a16df5",
   "metadata": {},
   "outputs": [
    {
     "name": "stdout",
     "output_type": "stream",
     "text": [
      "\n",
      "\n",
      "========================================= ROCm System Management Interface =========================================\n",
      "=================================================== Concise Info ===================================================\n",
      "Device  Node  IDs              Temp    Power  Partitions          SCLK    MCLK     Fan  Perf  PwrCap  VRAM%  GPU%  \n",
      "\u001b[3m              (DID,     GUID)  (Edge)  (Avg)  (Mem, Compute, ID)                                                   \u001b[0m\n",
      "====================================================================================================================\n",
      "0       1     0x740f,   56224  43.0°C  43.0W  N/A, N/A, 0         800Mhz  1600Mhz  0%   auto  300.0W  0%     0%    \n",
      "====================================================================================================================\n",
      "=============================================== End of ROCm SMI Log ================================================\n"
     ]
    }
   ],
   "source": [
    "!rocm-smi"
   ]
  },
  {
   "cell_type": "code",
   "execution_count": 4,
   "id": "f2726725",
   "metadata": {},
   "outputs": [
    {
     "name": "stdout",
     "output_type": "stream",
     "text": [
      "Package                   Version\n",
      "------------------------- --------------\n",
      "accelerate                1.2.1\n",
      "aiohappyeyeballs          2.6.1\n",
      "aiohttp                   3.11.14\n",
      "aiosignal                 1.3.2\n",
      "amdsmi                    24.7.1+0012a68\n",
      "anyio                     4.9.0\n",
      "argon2-cffi               25.1.0\n",
      "argon2-cffi-bindings      21.2.0\n",
      "arrow                     1.3.0\n",
      "asttokens                 3.0.0\n",
      "async-lru                 2.0.5\n",
      "async-timeout             5.0.1\n",
      "attrs                     25.3.0\n",
      "babel                     2.17.0\n",
      "beautifulsoup4            4.13.4\n",
      "bleach                    6.2.0\n",
      "certifi                   2025.4.26\n",
      "cffi                      1.17.1\n",
      "charset-normalizer        3.4.2\n",
      "comm                      0.2.2\n",
      "datasets                  3.2.0\n",
      "debugpy                   1.8.14\n",
      "decorator                 5.2.1\n",
      "defusedxml                0.7.1\n",
      "dill                      0.3.8\n",
      "einops                    0.8.1\n",
      "evaluate                  0.4.3\n",
      "exceptiongroup            1.3.0\n",
      "executing                 2.2.0\n",
      "fastjsonschema            2.21.1\n",
      "filelock                  3.18.0\n",
      "flash_attn                2.7.4.post1\n",
      "fqdn                      1.5.1\n",
      "frozenlist                1.5.0\n",
      "fsspec                    2025.5.1\n",
      "h11                       0.16.0\n",
      "httpcore                  1.0.9\n",
      "httpx                     0.28.1\n",
      "huggingface-hub           0.29.3\n",
      "idna                      3.10\n",
      "importlib_metadata        8.7.0\n",
      "ipykernel                 6.29.5\n",
      "ipython                   8.18.1\n",
      "ipywidgets                8.1.5\n",
      "isoduration               20.11.0\n",
      "jedi                      0.19.2\n",
      "Jinja2                    3.1.6\n",
      "joblib                    1.4.2\n",
      "json5                     0.12.0\n",
      "jsonpointer               3.0.0\n",
      "jsonschema                4.24.0\n",
      "jsonschema-specifications 2025.4.1\n",
      "jupyter                   1.0.0\n",
      "jupyter_client            8.6.3\n",
      "jupyter-console           6.6.3\n",
      "jupyter_core              5.8.1\n",
      "jupyter-events            0.12.0\n",
      "jupyter-lsp               2.2.5\n",
      "jupyter_server            2.16.0\n",
      "jupyter_server_terminals  0.5.3\n",
      "jupyterlab                4.4.3\n",
      "jupyterlab_pygments       0.3.0\n",
      "jupyterlab_server         2.27.3\n",
      "jupyterlab_widgets        3.0.13\n",
      "MarkupSafe                3.0.2\n",
      "matplotlib-inline         0.1.7\n",
      "mistune                   3.1.3\n",
      "mpmath                    1.3.0\n",
      "multidict                 6.2.0\n",
      "multiprocess              0.70.16\n",
      "nbclient                  0.10.2\n",
      "nbconvert                 7.16.6\n",
      "nbformat                  5.10.4\n",
      "nest-asyncio              1.6.0\n",
      "networkx                  3.2.1\n",
      "ninja                     1.11.1.4\n",
      "notebook                  7.4.3\n",
      "notebook_shim             0.2.4\n",
      "numpy                     2.0.2\n",
      "overrides                 7.7.0\n",
      "packaging                 25.0\n",
      "pandas                    2.2.3\n",
      "pandocfilters             1.5.1\n",
      "parso                     0.8.4\n",
      "pexpect                   4.9.0\n",
      "pillow                    11.2.1\n",
      "pip                       25.2\n",
      "platformdirs              4.3.8\n",
      "prometheus_client         0.22.1\n",
      "prompt_toolkit            3.0.51\n",
      "propcache                 0.3.1\n",
      "psutil                    7.0.0\n",
      "ptyprocess                0.7.0\n",
      "pure_eval                 0.2.3\n",
      "pyarrow                   19.0.1\n",
      "pycparser                 2.22\n",
      "Pygments                  2.19.1\n",
      "python-dateutil           2.9.0.post0\n",
      "python-json-logger        3.3.0\n",
      "pytorch-triton-rocm       3.3.1\n",
      "pytz                      2025.2\n",
      "PyYAML                    6.0.2\n",
      "pyzmq                     26.4.0\n",
      "qtconsole                 5.6.1\n",
      "QtPy                      2.4.3\n",
      "referencing               0.36.2\n",
      "regex                     2024.11.6\n",
      "requests                  2.32.3\n",
      "rfc3339-validator         0.1.4\n",
      "rfc3986-validator         0.1.1\n",
      "rpds-py                   0.25.1\n",
      "safetensors               0.5.3\n",
      "scikit-learn              1.5.2\n",
      "scipy                     1.13.1\n",
      "Send2Trash                1.8.3\n",
      "seqeval                   1.2.2\n",
      "setuptools                80.9.0\n",
      "six                       1.17.0\n",
      "sniffio                   1.3.1\n",
      "soupsieve                 2.7\n",
      "stack-data                0.6.3\n",
      "sympy                     1.14.0\n",
      "terminado                 0.18.1\n",
      "threadpoolctl             3.6.0\n",
      "tinycss2                  1.4.0\n",
      "tokenizers                0.21.1\n",
      "tomli                     2.2.1\n",
      "torch                     2.7.1+rocm6.3\n",
      "torchaudio                2.7.1+rocm6.3\n",
      "torchvision               0.22.1+rocm6.3\n",
      "tornado                   6.5.1\n",
      "tqdm                      4.67.1\n",
      "traitlets                 5.14.3\n",
      "transformers              4.48.1\n",
      "types-python-dateutil     2.9.0.20250516\n",
      "typing_extensions         4.14.0\n",
      "tzdata                    2025.2\n",
      "uri-template              1.3.0\n",
      "urllib3                   2.4.0\n",
      "wcwidth                   0.2.13\n",
      "webcolors                 24.11.1\n",
      "webencodings              0.5.1\n",
      "websocket-client          1.8.0\n",
      "wheel                     0.45.1\n",
      "widgetsnbextension        4.0.13\n",
      "xxhash                    3.5.0\n",
      "yarl                      1.18.3\n",
      "zipp                      3.22.0\n"
     ]
    }
   ],
   "source": [
    "!pip list"
   ]
  },
  {
   "cell_type": "code",
   "execution_count": 5,
   "id": "6272af0d",
   "metadata": {},
   "outputs": [
    {
     "name": "stdout",
     "output_type": "stream",
     "text": [
      "Architecture:             x86_64\n",
      "  CPU op-mode(s):         32-bit, 64-bit\n",
      "  Address sizes:          48 bits physical, 48 bits virtual\n",
      "  Byte Order:             Little Endian\n",
      "CPU(s):                   16\n",
      "  On-line CPU(s) list:    0-15\n",
      "Vendor ID:                AuthenticAMD\n",
      "  Model name:             AMD EPYC 7V13 64-Core Processor\n",
      "    CPU family:           25\n",
      "    Model:                1\n",
      "    Thread(s) per core:   1\n",
      "    Core(s) per socket:   1\n",
      "    Socket(s):            16\n",
      "    Stepping:             1\n",
      "    BogoMIPS:             4890.80\n",
      "    Flags:                fpu vme de pse tsc msr pae mce cx8 apic sep mtrr pge m\n",
      "                          ca cmov pat pse36 clflush mmx fxsr sse sse2 syscall nx\n",
      "                           mmxext fxsr_opt pdpe1gb rdtscp lm rep_good nopl cpuid\n",
      "                           extd_apicid tsc_known_freq pni pclmulqdq ssse3 fma cx\n",
      "                          16 pcid sse4_1 sse4_2 x2apic movbe popcnt tsc_deadline\n",
      "                          _timer aes xsave avx f16c rdrand hypervisor lahf_lm cm\n",
      "                          p_legacy svm cr8_legacy abm sse4a misalignsse 3dnowpre\n",
      "                          fetch osvw perfctr_core ssbd ibrs ibpb stibp vmmcall f\n",
      "                          sgsbase tsc_adjust bmi1 avx2 smep bmi2 invpcid rdseed \n",
      "                          adx smap clflushopt clwb sha_ni xsaveopt xsavec xgetbv\n",
      "                          1 xsaves clzero xsaveerptr wbnoinvd arat npt lbrv nrip\n",
      "                          _save tsc_scale vmcb_clean flushbyasid pausefilter pft\n",
      "                          hreshold v_vmsave_vmload vgif umip pku ospke vaes vpcl\n",
      "                          mulqdq rdpid arch_capabilities\n",
      "Virtualization features:  \n",
      "  Virtualization:         AMD-V\n",
      "  Hypervisor vendor:      KVM\n",
      "  Virtualization type:    full\n",
      "Caches (sum of all):      \n",
      "  L1d:                    1 MiB (16 instances)\n",
      "  L1i:                    1 MiB (16 instances)\n",
      "  L2:                     8 MiB (16 instances)\n",
      "  L3:                     256 MiB (16 instances)\n",
      "NUMA:                     \n",
      "  NUMA node(s):           1\n",
      "  NUMA node0 CPU(s):      0-15\n",
      "Vulnerabilities:          \n",
      "  Gather data sampling:   Not affected\n",
      "  Itlb multihit:          Not affected\n",
      "  L1tf:                   Not affected\n",
      "  Mds:                    Not affected\n",
      "  Meltdown:               Not affected\n",
      "  Mmio stale data:        Not affected\n",
      "  Reg file data sampling: Not affected\n",
      "  Retbleed:               Not affected\n",
      "  Spec rstack overflow:   Vulnerable: Safe RET, no microcode\n",
      "  Spec store bypass:      Mitigation; Speculative Store Bypass disabled via prct\n",
      "                          l\n",
      "  Spectre v1:             Mitigation; usercopy/swapgs barriers and __user pointe\n",
      "                          r sanitization\n",
      "  Spectre v2:             Mitigation; Retpolines; IBPB conditional; IBRS_FW; STI\n",
      "                          BP disabled; RSB filling; PBRSB-eIBRS Not affected; BH\n",
      "                          I Not affected\n",
      "  Srbds:                  Not affected\n",
      "  Tsx async abort:        Not affected\n"
     ]
    }
   ],
   "source": [
    "!lscpu "
   ]
  },
  {
   "cell_type": "code",
   "execution_count": null,
   "id": "16bd2d27",
   "metadata": {},
   "outputs": [
    {
     "name": "stdout",
     "output_type": "stream",
     "text": [
      "True\n",
      "_CudaDeviceProperties(name='AMD Instinct MI210', major=9, minor=0, gcnArchName='gfx90a:sramecc+:xnack-', total_memory=65520MB, multi_processor_count=104, uuid=34633535-3535-3633-3036-353330303363, L2_cache_size=8MB)\n"
     ]
    }
   ],
   "source": [
    "import torch\n",
    "\n",
    "# Verificar tamanho e GPUs disponíveis\n",
    "print(torch.cuda.is_available())\n",
    "for i in range(torch.cuda.device_count()):\n",
    "   print(torch.cuda.get_device_properties(i))"
   ]
  },
  {
   "cell_type": "code",
   "execution_count": 8,
   "id": "28020a5b",
   "metadata": {},
   "outputs": [
    {
     "name": "stdout",
     "output_type": "stream",
     "text": [
      "/home1/renneruan\n"
     ]
    }
   ],
   "source": [
    "!pwd"
   ]
  },
  {
   "cell_type": "code",
   "execution_count": 7,
   "id": "af5370ef",
   "metadata": {},
   "outputs": [
    {
     "name": "stdout",
     "output_type": "stream",
     "text": [
      "bert-code\tjob.227087.out\tjob.227090.out\tREADME.md\n",
      "job.225751.out\tjob.227089.out\tjob.notebook\tUntitled.ipynb\n"
     ]
    }
   ],
   "source": [
    "!ls"
   ]
  }
 ],
 "metadata": {
  "kernelspec": {
   "display_name": "bert-env",
   "language": "python",
   "name": "bert-env"
  },
  "language_info": {
   "codemirror_mode": {
    "name": "ipython",
    "version": 3
   },
   "file_extension": ".py",
   "mimetype": "text/x-python",
   "name": "python",
   "nbconvert_exporter": "python",
   "pygments_lexer": "ipython3",
   "version": "3.9.21"
  }
 },
 "nbformat": 4,
 "nbformat_minor": 5
}
