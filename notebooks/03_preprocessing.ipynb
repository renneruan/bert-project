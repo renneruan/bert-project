{
 "cells": [
  {
   "cell_type": "markdown",
   "id": "c44ac0f9",
   "metadata": {},
   "source": [
    "## Pré-processamento"
   ]
  },
  {
   "cell_type": "code",
   "execution_count": 1,
   "id": "33f41c0d",
   "metadata": {},
   "outputs": [
    {
     "name": "stdout",
     "output_type": "stream",
     "text": [
      "k003-002.hpcfund\n"
     ]
    }
   ],
   "source": [
    "!hostname"
   ]
  },
  {
   "cell_type": "code",
   "execution_count": 2,
   "id": "b9091147",
   "metadata": {},
   "outputs": [
    {
     "data": {
      "text/plain": [
       "'/work1/lgarcia/renneruan/cached_data'"
      ]
     },
     "execution_count": 2,
     "metadata": {},
     "output_type": "execute_result"
    }
   ],
   "source": [
    "import os\n",
    "\n",
    "WORK_DIR = os.getenv('WORK')\n",
    "\n",
    "DATA_FOLDER = os.path.join(WORK_DIR, \"data\")\n",
    "\n",
    "CACHED_DATA_FOLDER = os.path.join(WORK_DIR, \"cached_data\")\n",
    "\n",
    "# Salvamos o path do Cache par ao HuggingFace\n",
    "os.environ['HF_HOME'] = CACHED_DATA_FOLDER\n",
    "\n",
    "CACHED_DATA_FOLDER"
   ]
  },
  {
   "cell_type": "code",
   "execution_count": null,
   "id": "ef44c3b6",
   "metadata": {},
   "outputs": [],
   "source": [
    "# !pip install nltk"
   ]
  },
  {
   "cell_type": "code",
   "execution_count": 3,
   "id": "007e4d22",
   "metadata": {},
   "outputs": [],
   "source": [
    "from datasets import load_from_disk\n",
    "import nltk\n",
    "\n",
    "from multiprocessing import cpu_count\n",
    "\n"
   ]
  },
  {
   "cell_type": "code",
   "execution_count": 16,
   "id": "baef1826",
   "metadata": {},
   "outputs": [
    {
     "name": "stderr",
     "output_type": "stream",
     "text": [
      "[nltk_data] Downloading package stopwords to\n",
      "[nltk_data]     /home1/renneruan/nltk_data...\n",
      "[nltk_data]   Package stopwords is already up-to-date!\n"
     ]
    },
    {
     "data": {
      "text/plain": [
       "True"
      ]
     },
     "execution_count": 16,
     "metadata": {},
     "output_type": "execute_result"
    }
   ],
   "source": [
    "nltk.download('stopwords')"
   ]
  },
  {
   "cell_type": "code",
   "execution_count": 5,
   "id": "2c2c240a",
   "metadata": {},
   "outputs": [
    {
     "name": "stdout",
     "output_type": "stream",
     "text": [
      "/work1/lgarcia/renneruan\n"
     ]
    }
   ],
   "source": [
    "os.chdir(WORK_DIR)\n",
    "print(os.getcwd())"
   ]
  },
  {
   "cell_type": "markdown",
   "id": "4705e38c",
   "metadata": {},
   "source": [
    "### Tratamento\n"
   ]
  },
  {
   "cell_type": "code",
   "execution_count": 6,
   "id": "b6020e90",
   "metadata": {},
   "outputs": [],
   "source": [
    "concatenated_save_path = os.path.join(DATA_FOLDER, 'concatenated_raw_datasets')"
   ]
  },
  {
   "cell_type": "code",
   "execution_count": 7,
   "id": "932f3d57",
   "metadata": {},
   "outputs": [
    {
     "data": {
      "application/vnd.jupyter.widget-view+json": {
       "model_id": "44b61ca6cd1940b3830e43a7e0ea0a3f",
       "version_major": 2,
       "version_minor": 0
      },
      "text/plain": [
       "Loading dataset from disk:   0%|          | 0/41 [00:00<?, ?it/s]"
      ]
     },
     "metadata": {},
     "output_type": "display_data"
    },
    {
     "name": "stdout",
     "output_type": "stream",
     "text": [
      "Successfully reloaded dataset from disk:\n",
      "Dataset({\n",
      "    features: ['text'],\n",
      "    num_rows: 4643042\n",
      "})\n"
     ]
    }
   ],
   "source": [
    "concatenated_datasets = load_from_disk(concatenated_save_path)\n",
    "print(\"Successfully reloaded dataset from disk:\")\n",
    "print(concatenated_datasets)"
   ]
  },
  {
   "cell_type": "code",
   "execution_count": 8,
   "id": "9030ad17",
   "metadata": {},
   "outputs": [],
   "source": [
    "stopwords = nltk.corpus.stopwords.words('portuguese')"
   ]
  },
  {
   "cell_type": "code",
   "execution_count": 9,
   "id": "65ccdcb5",
   "metadata": {},
   "outputs": [],
   "source": [
    "def analize_texts(row):\n",
    "\n",
    "    list_paragraph = []\n",
    "    list_words = []\n",
    "    list_stopwords = []\n",
    "    list_average = []\n",
    "\n",
    "    for doc in row[\"text\"]:\n",
    "        for paragraph in doc.split('\\n'):\n",
    "\n",
    "            # strip whitespaces\n",
    "            paragraph = paragraph.strip()\n",
    "\n",
    "            # skip single or empty worded paragraphs\n",
    "            if (len(paragraph.split()) < 2):\n",
    "                continue\n",
    "\n",
    "            # count how many stopwords are in the paragraph\n",
    "            stopwords_cnt = 0    \n",
    "            for word in paragraph.split():\n",
    "                for stop in stopwords:\n",
    "                    if stop.casefold() == word.casefold():  # insensitive case\n",
    "                        stopwords_cnt += 1\n",
    "                        break # count once and speed up everything\n",
    "            \n",
    "            # count non whitespace characters\n",
    "            characters = 0\n",
    "            for word in paragraph.split():\n",
    "                characters += len(word)\n",
    "\n",
    "            list_paragraph.append(paragraph)\n",
    "            list_words.append(len(paragraph.split()))\n",
    "            list_stopwords.append(stopwords_cnt)\n",
    "            list_average.append(characters/len(paragraph.split()))\n",
    "\n",
    "    return {\n",
    "        \"paragraphs\" : list_paragraph,\n",
    "        \"num_words\" : list_words,\n",
    "        \"stopwords\" : list_stopwords,\n",
    "        \"average\" : list_average\n",
    "    }"
   ]
  },
  {
   "cell_type": "code",
   "execution_count": 10,
   "id": "24ce0779",
   "metadata": {},
   "outputs": [
    {
     "data": {
      "application/vnd.jupyter.widget-view+json": {
       "model_id": "4c82dd7dc769492d8f615997dbd22fee",
       "version_major": 2,
       "version_minor": 0
      },
      "text/plain": [
       "Map (num_proc=128):   0%|          | 0/4643042 [00:00<?, ? examples/s]"
      ]
     },
     "metadata": {},
     "output_type": "display_data"
    }
   ],
   "source": [
    "preprocessed_datasets = concatenated_datasets.map(\n",
    "    analize_texts,\n",
    "    batched = True,\n",
    "    remove_columns=[\"text\"],\n",
    "    num_proc = cpu_count(),\n",
    ")"
   ]
  },
  {
   "cell_type": "code",
   "execution_count": 11,
   "id": "31131215",
   "metadata": {},
   "outputs": [
    {
     "data": {
      "text/plain": [
       "Dataset({\n",
       "    features: ['text', 'num_words', 'stopwords', 'average'],\n",
       "    num_rows: 156783923\n",
       "})"
      ]
     },
     "execution_count": 11,
     "metadata": {},
     "output_type": "execute_result"
    }
   ],
   "source": [
    "preprocessed_datasets = preprocessed_datasets.rename_column(\"paragraphs\", \"text\")\n",
    "preprocessed_datasets"
   ]
  },
  {
   "cell_type": "code",
   "execution_count": 12,
   "id": "4a0e0fab",
   "metadata": {},
   "outputs": [],
   "source": [
    "preprocessed_save_path = os.path.join(DATA_FOLDER, 'preprocessed_datasets')"
   ]
  },
  {
   "cell_type": "code",
   "execution_count": 13,
   "id": "17075b74",
   "metadata": {},
   "outputs": [
    {
     "data": {
      "application/vnd.jupyter.widget-view+json": {
       "model_id": "92fd088a59e045dd9f58e41b58e13723",
       "version_major": 2,
       "version_minor": 0
      },
      "text/plain": [
       "Saving the dataset (0/49 shards):   0%|          | 0/156783923 [00:00<?, ? examples/s]"
      ]
     },
     "metadata": {},
     "output_type": "display_data"
    }
   ],
   "source": [
    "preprocessed_datasets.save_to_disk(preprocessed_save_path)"
   ]
  },
  {
   "cell_type": "code",
   "execution_count": 14,
   "id": "f4b1c2f7",
   "metadata": {},
   "outputs": [
    {
     "data": {
      "text/plain": [
       "['Astronomia é uma ciência natural que estuda corpos celestes (como estrelas, planetas, cometas, nebulosas, aglomerados de estrelas, galáxias) e fenômenos que se originam fora da atmosfera da Terra (como a radiação cósmica de fundo em micro-ondas). Preocupada com a evolução, a física e a química de objetos celestes, bem como a formação e o desenvolvimento do universo.',\n",
       " 'A astronomia é uma das mais antigas ciências. Culturas pré-históricas deixaram registrados vários artefatos astronômicos, como Stonehenge, os montes de Newgrange e os menires. As primeiras civilizações, como os babilônios, gregos, chineses, indianos, persas e maias realizaram observações metódicas do céu noturno. No entanto, a invenção do telescópio permitiu o desenvolvimento da astronomia moderna. Historicamente, a astronomia incluiu disciplinas tão diversas como astrometria, navegação astronômica, astronomia observacional e a elaboração de calendários. Durante o período medieval, seu estudo era obrigatório e estava incluído no Quadrivium que, junto com o Trivium, compunha a metodologia de ensino das sete Artes liberais.',\n",
       " 'Durante o século XX, o campo da astronomia profissional dividiu-se em dois ramos: a astronomia observacional e a astronomia teórica. A primeira está focada na aquisição de dados a partir da observação de objetos celestes, que são então analisados utilizando os princípios básicos da física. Já a segunda é orientada para o desenvolvimento de modelos analíticos que descrevem objetos e fenômenos astronômicos. Os dois campos se complementam, com a astronomia teórica procurando explicar os resultados observacionais, bem com as observações sendo usadas para confirmar (ou não) os resultados teóricos.',\n",
       " 'Os astrônomos amadores têm contribuído para muitas e importantes descobertas astronômicas. A astronomia é uma das poucas ciências onde os amadores podem desempenhar um papel ativo, especialmente na descoberta e observação de fenômenos transitórios.',\n",
       " 'A Astronomia não deve ser confundida com a astrologia, sistema de crença que afirma que os assuntos humanos, como a personalidade, estão correlacionados com as posições dos objetos celestes. Embora os dois campos compartilhem uma origem comum, atualmente eles estão totalmente distintos.',\n",
       " 'Inicialmente, a astronomia envolveu somente a observação e a previsão dos movimentos dos objetos no céu que podiam ser vistos a olho nu. O Rigveda refere-se aos 27 asterismos ou nakshatras associados aos movimentos do Sol e também às doze divisões zodiacais do céu. Durante milhares de anos, as pessoas investigaram o espaço e a situação da Terra. No ano 4000 a.C., os egípcios desenvolveram um calendário baseado no movimento dos objetos celestes. A observação dos céus levou à previsão de eventos como os eclipses. Os antigos gregos fizeram importantes contribuições para a astronomia, entre elas a definição de magnitude aparente. A Bíblia contém um número de afirmações sobre a posição da Terra no universo e sobre a natureza das estrelas e dos planetas, a maioria das quais são poéticas e não devem ser interpretadas literalmente; ver Cosmologia bíblica. Nos anos 500, Aryabhata apresentou um sistema matemático que considerava que a Terra rodava em torno do seu eixo e que os planetas se deslocavam em relação ao Sol.',\n",
       " \"O estudo da astronomia quase parou durante a Idade Média, à exceção do trabalho dos astrónomos árabes. No  final do século IX, o astrónomo árabe ou persa al-Farghani (Abu'l-Abbas Ahmad ibn Muhammad ibn Kathir al-Farghani) escreveu extensivamente sobre o movimento dos corpos celestes. No século XII, os seus trabalhos foram traduzidos para o latim, e diz-se que Dante aprendeu astronomia pelos livros de al-Farghani.\",\n",
       " 'No final do século X, um observatório enorme foi construído perto de Teerã, Irã, pelo astrônomo al-Khujandi, que observou uma série de trânsitos meridianos do Sol, que permitiu-lhe calcular a obliquidade da eclíptica, também conhecida como a inclinação do eixo da Terra relativamente ao Sol. Como sabe-se hoje, a inclinação da Terra é de aproximadamente 23°34\\', e al-Khujandi mediu-a como sendo 23°32\\'19\". Usando esta informação, compilou também uma lista das latitudes e das longitudes de cidades principais.',\n",
       " \"Omar Khayyam (Ghiyath al-Din Abu'l-Fath Umar ibn Ibrahim al-Nisaburi al-Khayyami) foi um grande cientista, filósofo e poeta persa que viveu de 1048 a 1131. Compilou muitas tabelas astronômicas e executou uma reforma do calendário que era mais exato do que o Calendário Juliano e se aproximava do Calendário Gregoriano. Um feito surpreendente era seu cálculo do ano como tendo 365,24219858156 dias, valor esse considerando a exatidão até a sexta casa decimal se comparado com os números de hoje, indica que nesses mil anos pode ter havido algumas alterações na órbita terrestre.\",\n",
       " 'Durante o Renascimento, Copérnico propôs um modelo heliocêntrico do Sistema Solar. No século XIII, o imperador Hulagu, neto de Gengis Khan e um protetor das ciências, havia concedido ao conselheiro Nasir El Din Tusi autorização para edificar um observatório considerado sem equivalentes na época. Entre os trabalhos desenvolvidos no observatório de Maragheh e a obra \"De Revolutionibus Orbium Caelestium\" de Copérnico, há algumas semelhanças que levam os historiadores a admitir que este teria tomado conhecimento dos estudos de Tusi, através de cópias de trabalhos deste existentes no Vaticano.']"
      ]
     },
     "execution_count": 14,
     "metadata": {},
     "output_type": "execute_result"
    }
   ],
   "source": [
    "preprocessed_datasets[:10][\"text\"]"
   ]
  },
  {
   "cell_type": "code",
   "execution_count": 15,
   "id": "746a77a2",
   "metadata": {},
   "outputs": [
    {
     "data": {
      "text/plain": [
       "['Antigamente era costume de invocar apenas aulas de santos e, em seguida, foram adicionados nomes individuais, e em muitos lugares santos foram adicionados locais (Rock \", A Igreja de Nossa Padres \", Londres, 1903, 182;\" Manuale Lincopense \", Paderborn, 1904, 71).',\n",
       " 'Para obter uniformidade, modificações e acréscimos para os aprovados foram proibidos (SRC, 2093, 3236, 3313).',\n",
       " 'Publicação informações escritas por Francis Mershman.',\n",
       " 'Transcrita por Thomas M. Barrett.',\n",
       " 'Dedicado aos pobres almas do Purgatório A Enciclopédia Católica, Volume IX.',\n",
       " 'Publicado 1910.',\n",
       " 'Posts do dia 3 abril 2012',\n",
       " 'A partir desta quarta-feira, os leitores de Zero Hora terão um endereço certo na internet para tirar suas dúvidas sobre as eleições deste ano.',\n",
       " 'Um guia completo trará informações sobre como regularizar o título, regras da propaganda eleitoral e voto biométrico.',\n",
       " 'Além disso, o eleitor poderá acessar as notícias atualizadas dos candidatos e das campanhas nos municípios gaúchos.']"
      ]
     },
     "execution_count": 15,
     "metadata": {},
     "output_type": "execute_result"
    }
   ],
   "source": [
    "preprocessed_datasets[-10:][\"text\"]"
   ]
  },
  {
   "cell_type": "code",
   "execution_count": 16,
   "id": "548fadbb",
   "metadata": {},
   "outputs": [
    {
     "data": {
      "text/plain": [
       "[57, 99, 89, 34, 42, 168, 64, 77, 91, 88]"
      ]
     },
     "execution_count": 16,
     "metadata": {},
     "output_type": "execute_result"
    }
   ],
   "source": [
    "preprocessed_datasets[:10][\"num_words\"]"
   ]
  },
  {
   "cell_type": "code",
   "execution_count": 17,
   "id": "738113b9",
   "metadata": {},
   "outputs": [
    {
     "data": {
      "text/plain": [
       "[11, 5, 1, 1, 3, 0, 1, 9, 5, 6]"
      ]
     },
     "execution_count": 17,
     "metadata": {},
     "output_type": "execute_result"
    }
   ],
   "source": [
    "preprocessed_datasets[-10:][\"stopwords\"]"
   ]
  },
  {
   "cell_type": "code",
   "execution_count": 18,
   "id": "215894b9",
   "metadata": {},
   "outputs": [
    {
     "data": {
      "text/plain": [
       "[5.439024390243903,\n",
       " 6.333333333333333,\n",
       " 8.0,\n",
       " 5.8,\n",
       " 5.909090909090909,\n",
       " 7.0,\n",
       " 3.3333333333333335,\n",
       " 4.958333333333333,\n",
       " 5.9411764705882355,\n",
       " 5.823529411764706]"
      ]
     },
     "execution_count": 18,
     "metadata": {},
     "output_type": "execute_result"
    }
   ],
   "source": [
    "preprocessed_datasets[-10:][\"average\"]"
   ]
  },
  {
   "cell_type": "code",
   "execution_count": 19,
   "id": "3b66195b",
   "metadata": {},
   "outputs": [
    {
     "data": {
      "application/vnd.jupyter.widget-view+json": {
       "model_id": "3e399656657240ab8ab7538a71cd7fb2",
       "version_major": 2,
       "version_minor": 0
      },
      "text/plain": [
       "Filter:   0%|          | 0/156783923 [00:00<?, ? examples/s]"
      ]
     },
     "metadata": {},
     "output_type": "display_data"
    },
    {
     "data": {
      "text/plain": [
       "Dataset({\n",
       "    features: ['text', 'num_words', 'stopwords', 'average'],\n",
       "    num_rows: 63029659\n",
       "})"
      ]
     },
     "execution_count": 19,
     "metadata": {},
     "output_type": "execute_result"
    }
   ],
   "source": [
    "cleaned_datasets = preprocessed_datasets.filter(\n",
    "    lambda example: \n",
    "            example[\"num_words\"] >= 20 \n",
    "        and example[\"num_words\"] <= 512\n",
    "        and example[\"stopwords\"] >= 1\n",
    "        and example[\"average\"] >= 2 \n",
    "        and example[\"average\"] <= 15\n",
    "    )\n",
    "\n",
    "cleaned_datasets"
   ]
  },
  {
   "cell_type": "code",
   "execution_count": 20,
   "id": "41cf1753",
   "metadata": {},
   "outputs": [],
   "source": [
    "cleaned_datasets = cleaned_datasets.remove_columns([col for col in cleaned_datasets.column_names if col != \"text\"])  # only keep the 'text' column"
   ]
  },
  {
   "cell_type": "markdown",
   "id": "0be973d9",
   "metadata": {},
   "source": [
    "### Split"
   ]
  },
  {
   "cell_type": "code",
   "execution_count": 21,
   "id": "beac4412",
   "metadata": {},
   "outputs": [
    {
     "data": {
      "text/plain": [
       "DatasetDict({\n",
       "    train: Dataset({\n",
       "        features: ['text'],\n",
       "        num_rows: 56726693\n",
       "    })\n",
       "    test: Dataset({\n",
       "        features: ['text'],\n",
       "        num_rows: 6302966\n",
       "    })\n",
       "})"
      ]
     },
     "execution_count": 21,
     "metadata": {},
     "output_type": "execute_result"
    }
   ],
   "source": [
    "split_dataset = cleaned_datasets.train_test_split(test_size=0.1, shuffle=True, seed=42)\n",
    "\n",
    "split_dataset "
   ]
  },
  {
   "cell_type": "code",
   "execution_count": 22,
   "id": "5326677f",
   "metadata": {},
   "outputs": [],
   "source": [
    "split_save_path = os.path.join(DATA_FOLDER, 'split_datasets')"
   ]
  },
  {
   "cell_type": "code",
   "execution_count": 23,
   "id": "4766b827",
   "metadata": {},
   "outputs": [
    {
     "data": {
      "application/vnd.jupyter.widget-view+json": {
       "model_id": "cfac42b749404227ad53499bd1e3f678",
       "version_major": 2,
       "version_minor": 0
      },
      "text/plain": [
       "Saving the dataset (0/15 shards):   0%|          | 0/56726693 [00:00<?, ? examples/s]"
      ]
     },
     "metadata": {},
     "output_type": "display_data"
    },
    {
     "data": {
      "application/vnd.jupyter.widget-view+json": {
       "model_id": "a71726277ba44ccfba56130c9fda822b",
       "version_major": 2,
       "version_minor": 0
      },
      "text/plain": [
       "Saving the dataset (0/2 shards):   0%|          | 0/6302966 [00:00<?, ? examples/s]"
      ]
     },
     "metadata": {},
     "output_type": "display_data"
    }
   ],
   "source": [
    "split_dataset.save_to_disk(split_save_path)"
   ]
  }
 ],
 "metadata": {
  "kernelspec": {
   "display_name": "bert-env",
   "language": "python",
   "name": "bert-env"
  }
 },
 "nbformat": 4,
 "nbformat_minor": 5
}
